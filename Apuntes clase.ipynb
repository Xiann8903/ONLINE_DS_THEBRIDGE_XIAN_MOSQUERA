{
 "cells": [
  {
   "cell_type": "markdown",
   "metadata": {},
   "source": [
    "#### TEMA 5"
   ]
  },
  {
   "cell_type": "markdown",
   "metadata": {},
   "source": [
    "1. Ejemplo de creacion de lista y posicionamiento en listas."
   ]
  },
  {
   "cell_type": "markdown",
   "metadata": {},
   "source": [
    "Creacion de lista"
   ]
  },
  {
   "cell_type": "code",
   "execution_count": 13,
   "metadata": {},
   "outputs": [
    {
     "name": "stdout",
     "output_type": "stream",
     "text": [
      "[1, 2, 3, 4, 5, 6, 7]\n"
     ]
    }
   ],
   "source": [
    "numero_de_numeros = int(input(\"Cuantos numeros quieres meter: \"))\n",
    "lista = []\n",
    "\n",
    "for i in range(numero_de_numeros):\n",
    "    numero_a_añadir = int(input(\"Dame un numero: \"))\n",
    "    lista.append(numero_a_añadir)\n",
    "\n",
    "print(lista)"
   ]
  },
  {
   "cell_type": "markdown",
   "metadata": {},
   "source": [
    "Como funciona el range()? que se q no tienes nidea"
   ]
  },
  {
   "cell_type": "code",
   "execution_count": 12,
   "metadata": {},
   "outputs": [
    {
     "data": {
      "text/plain": [
       "range(0, 4)"
      ]
     },
     "execution_count": 12,
     "metadata": {},
     "output_type": "execute_result"
    }
   ],
   "source": [
    "rango = 3\n",
    "range(rango)\n",
    "lista = [1,2,3,4,5]\n",
    "range(len((lista)))\n",
    "tupla = (1,3,4,5)\n",
    "range(len(tupla))\n",
    "\n",
    "### El comando range lo que hace es crear una tupla que marca una posicion inicial 0, y va hasta el rango maximo que definimos, en caso\n",
    "### de ser tuplas o listas es hasta la mayor posicion de la lista o tupla (cadenas)"
   ]
  },
  {
   "cell_type": "markdown",
   "metadata": {},
   "source": [
    "Obtencion de la lista anterior el maximo, el minimo, la cuarta posicion y la ultima posicion"
   ]
  },
  {
   "cell_type": "markdown",
   "metadata": {},
   "source": [
    "* Ten en cuenta que la lista va tener minimo 5 numeros"
   ]
  },
  {
   "cell_type": "code",
   "execution_count": 16,
   "metadata": {},
   "outputs": [
    {
     "name": "stdout",
     "output_type": "stream",
     "text": [
      "7\n",
      "1\n",
      "4\n"
     ]
    }
   ],
   "source": [
    "### sacar el maximo\n",
    "maximo = max(lista)\n",
    "### Sacar el minimo\n",
    "minimo = min(lista)\n",
    "### Para sacar la cuarta posicion\n",
    "cuarto_numero = lista[3]\n",
    "print(maximo)\n",
    "print(minimo)\n",
    "print(cuarto_numero)"
   ]
  },
  {
   "cell_type": "code",
   "execution_count": 21,
   "metadata": {},
   "outputs": [
    {
     "name": "stdout",
     "output_type": "stream",
     "text": [
      "7\n"
     ]
    }
   ],
   "source": [
    "### Ultimo numero\n",
    "ultimo_numero = lista[-1]\n",
    "print(ultimo_numero)\n"
   ]
  },
  {
   "cell_type": "markdown",
   "metadata": {},
   "source": [
    "Ejercicio de prueba: \n",
    "Vas a tener que darle los valores de una funcion y luego q el programa te devuelva\n",
    "* la suma total de los valores\n",
    "* el promedio de los datos\n",
    "* La suma de todos dividido entre el numero de maximos\n",
    "* evitar errores\n"
   ]
  },
  {
   "cell_type": "code",
   "execution_count": 42,
   "metadata": {},
   "outputs": [
    {
     "name": "stdout",
     "output_type": "stream",
     "text": [
      "Lista original:  [1, 2, 3, 5, 4, 6, 7, 6, 8, 9]\n",
      "Maximos locales:  [5, 7, 9]\n",
      "La suma de los valores es : 51\n",
      "El promedio de los datos es: 5.1\n",
      "17.0\n"
     ]
    }
   ],
   "source": [
    "numero_veces = int(input(\"Cuántos valores quieres dar: \"))\n",
    "lista = []\n",
    "maximos = []\n",
    "\n",
    "\n",
    "for i in range(numero_veces):\n",
    "    numero_a_añadir = int(input(\"Dame un número: \"))\n",
    "    lista.append(numero_a_añadir)\n",
    "\n",
    "if len(lista) > 0:\n",
    "    if len(lista) == 1 or lista[0] > lista[1]:\n",
    "        maximos.append(lista[0])\n",
    "\n",
    "    for i in range(1, len(lista) - 1):\n",
    "        if lista[i] > lista[i-1] and lista[i] > lista[i+1]:  \n",
    "            maximos.append(lista[i])\n",
    "\n",
    "    \n",
    "    if len(lista) > 1 and lista[-1] > lista[-2]:\n",
    "        maximos.append(lista[-1])\n",
    "\n",
    "print(\"Lista original: \", lista)\n",
    "print(\"Maximos locales: \", maximos)\n",
    "\n",
    "print(f\"La suma de los valores es : {sum(lista)}\")\n",
    "print(f\"El promedio de los datos es: {sum(lista)/len(lista)}\")\n",
    "\n",
    "if not len(maximos) == 0:\n",
    "    suma_entre_max = sum(lista)/len(maximos)\n",
    "    print(suma_entre_max)\n"
   ]
  }
 ],
 "metadata": {
  "kernelspec": {
   "display_name": "Python 3",
   "language": "python",
   "name": "python3"
  },
  "language_info": {
   "codemirror_mode": {
    "name": "ipython",
    "version": 3
   },
   "file_extension": ".py",
   "mimetype": "text/x-python",
   "name": "python",
   "nbconvert_exporter": "python",
   "pygments_lexer": "ipython3",
   "version": "3.11.9"
  }
 },
 "nbformat": 4,
 "nbformat_minor": 2
}
